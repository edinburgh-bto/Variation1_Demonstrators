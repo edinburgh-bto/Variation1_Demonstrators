{
 "cells": [
  {
   "cell_type": "markdown",
   "id": "3b9048ae",
   "metadata": {},
   "source": [
    "# Ladybird Analysis: Estimating the population mean size of your two-spot ladybirds"
   ]
  },
  {
   "cell_type": "markdown",
   "id": "501f97f8",
   "metadata": {},
   "source": [
    "## Task 1: Read in and print your groups's data"
   ]
  },
  {
   "cell_type": "markdown",
   "id": "51862156",
   "metadata": {},
   "source": [
    "Using pandas, you are now going to read in the Excel spreadsheet you just created with your group mates.\n",
    "\n",
    "<div class=\"alert alert-danger\">\n",
    "\n",
    "Make sure that your excel spreadsheet is in the **Ladybird Analysis Notebooks** folder on Noteable, i.e., the same folder that this jupyter notebook is in.\n",
    "    \n",
    "</div>\n",
    "\n",
    "1. Read in your Excel spreadsheet using the command \n",
    "```python\n",
    "pd.read_excel('ladybird_sizes_X_Y_Z.xlsx')\n",
    "```\n",
    "Replace X with your group name (GNU, YAK, FOX, or APE) and Y and Z with your groups' letters. For example, if your group is GNU D and your partnering group is GNU C the filename is `ladybird_sizes_GNU_C_D.xlsx`.\n",
    "\n",
    "2. Call the DataFrame something sensible, such as `ladybirds`.\n",
    "\n",
    "3. Print the data to make sure it is okay."
   ]
  },
  {
   "cell_type": "code",
   "execution_count": null,
   "id": "489b37a7",
   "metadata": {},
   "outputs": [],
   "source": [
    "# read in and print your ladybird size dataset"
   ]
  },
  {
   "cell_type": "markdown",
   "id": "477f4bc2",
   "metadata": {},
   "source": [
    "## Task 2: Plot your group's data"
   ]
  },
  {
   "cell_type": "markdown",
   "id": "571831b6",
   "metadata": {},
   "source": [
    "Plot your two-spot ladybird sizes in an annotated histogram in the following code cell. See [Coding 3 - Working with data](../Coding%20Practicals%20Notebooks/Coding%203%20-%20Working%20with%20data.ipynb#Visualising-data) for help.\n",
    "\n",
    "<div class=\"alert alert-danger\">\n",
    "\n",
    "**Only plot your group's data. We'll compare your group's data with your partnering group's data next week.**\n",
    "    \n",
    "For example, if you are the low predation group you might use the command\n",
    "```python\n",
    "g = sns.displot(ladybirds['low'])\n",
    "```\n",
    "    \n",
    "</div>\n",
    "\n",
    "<div class=\"alert alert-success\">\n",
    "\n",
    "Note: In Task 1 you imported pandas and read in your spreadsheet. Jupyter Notebooks remember that you did this. Which means you DO NOT need to import pandas nor read in your spreadsheet again in any of the following code cells.\n",
    "</div>"
   ]
  },
  {
   "cell_type": "code",
   "execution_count": null,
   "id": "3f010acd",
   "metadata": {},
   "outputs": [],
   "source": [
    "# annotated histogram of two-spot ladybird sizes."
   ]
  },
  {
   "cell_type": "markdown",
   "id": "687c7b29",
   "metadata": {},
   "source": [
    "## Task 3: Check for outliers"
   ]
  },
  {
   "attachments": {
    "outliers.png": {
     "image/png": "[encoded data removed]"
    }
   },
   "cell_type": "markdown",
   "id": "c920a1ec",
   "metadata": {},
   "source": [
    "A histogram allows you to easily spot any outliers; that is data that are **extremely** far from the average. Perhaps the wrong species was measured or you entered 45 instead of 4.5 into the spreadsheet. \n",
    "\n",
    "If you are uncertain whether a value is an outlier you should leave it in your dataset. For example, a size of 9mm may seem large, but perhaps you've just found a particularly large two-spot ladybird. Only clearly erroneous values should be removed.\n",
    "\n",
    "![outliers.png](attachment:outliers.png)\n",
    "\n",
    "If you think any of the data are outliers you'll need to go back to your spreadsheet in Teams, update the excel spreadsheet and re-upload to Noteable."
   ]
  },
  {
   "cell_type": "markdown",
   "id": "8a1719d6",
   "metadata": {},
   "source": [
    "## Task 4: Eye-ball estimates of the mean and standard deviation"
   ]
  },
  {
   "cell_type": "markdown",
   "id": "1fa3ca70",
   "metadata": {},
   "source": [
    "It is generally a good idea to estimate means and standard deviations by eye before calculating them on a computer. This is so you can check your eye-ball estimates with the actual values output by Python. If they don't match then you know something is wrong: either your estimates or the Python code.\n",
    "\n",
    "Using your histogram, estimate the mean and standard deviation of ladybird sizes. Remember that a rough estimate of the standard deviation is given by this formula\n",
    "\n",
    "$$s \\approx \\frac{\\mathrm{max\\ value} - \\mathrm{min\\ value}}{4}$$\n"
   ]
  },
  {
   "cell_type": "markdown",
   "id": "d2c458a4",
   "metadata": {},
   "source": [
    "> Write your estimates here"
   ]
  },
  {
   "cell_type": "markdown",
   "id": "60b148f0",
   "metadata": {},
   "source": [
    "## Task 5: Calculate the sample size, mean and standard deviation"
   ]
  },
  {
   "cell_type": "markdown",
   "id": "5b798c8e",
   "metadata": {},
   "source": [
    "Now, using Python code, calculate the sample size, mean and standard deviation of your data in the following code cell to the appropriate number of decimal places. (See Notebook [3.3 - Normal distribution](../Self-study%20Notebooks/3.3%20-%20Normal%20distribution.ipynb#Find-the-sample-size,-mean-and-standard-deviation))\n",
    "\n",
    "How do they compare to your eye-ball estimates?"
   ]
  },
  {
   "cell_type": "code",
   "execution_count": null,
   "id": "712f4d74",
   "metadata": {},
   "outputs": [],
   "source": [
    "# sample size, sample mean and sample standard deviation"
   ]
  },
  {
   "cell_type": "markdown",
   "id": "1d7c92ac",
   "metadata": {},
   "source": [
    "## Task 6: Check if your data obey the 68-95-99.7% rule"
   ]
  },
  {
   "cell_type": "markdown",
   "id": "3c06a21d",
   "metadata": {},
   "source": [
    "Now you should check to see if your data are roughly normally distributed.\n",
    "\n",
    "1. Check if roughly 68% of your data lie within one standard deviation of the mean using Python code.\n",
    "2. Do you think your data are normally distributed?\n",
    "\n",
    "<div class=\"alert alert-info\">\n",
    "\n",
    "To do this task you will need to calculate, using Python code, the range from the mean minus one standard deviation to the mean plus one standard deviation. Then count how many ladybirds had sizes within this range. Is that roughly 68% of your data? \n",
    "    \n",
    "See the example in Notebook [3.3 Normal distribution](../Self-study%20Notebooks/3.3%20-%20Normal%20distribution.ipynb) for how to answer this Task.\n",
    "</div>"
   ]
  },
  {
   "cell_type": "code",
   "execution_count": null,
   "id": "8eee5013",
   "metadata": {},
   "outputs": [],
   "source": [
    "# check if roughly 68% of your data are within one standard deviation of the mean"
   ]
  },
  {
   "cell_type": "markdown",
   "id": "11b24e2b",
   "metadata": {},
   "source": [
    "## Task 7: Calculate the precision of your estimate of the population mean"
   ]
  },
  {
   "cell_type": "markdown",
   "id": "f2df10f0",
   "metadata": {},
   "source": [
    "Calculate the standard error of the mean and the 95% confidence interval of the mean. (See Notebook [3.5 - Estimating a population mean](../Self-study%20Notebooks/3.5%20-%20Estimating%20a%20population%20mean.ipynb#How-to-calculate-the-standard-error-of-the-mean-(SEM)))"
   ]
  },
  {
   "cell_type": "code",
   "execution_count": null,
   "id": "0d8e7f20",
   "metadata": {},
   "outputs": [],
   "source": [
    "# standard error and 95% confidence interval"
   ]
  },
  {
   "cell_type": "markdown",
   "id": "0d45df0a",
   "metadata": {},
   "source": [
    "## Task 8: Report your estimate of the population mean"
   ]
  },
  {
   "cell_type": "markdown",
   "id": "3e1a2b41",
   "metadata": {},
   "source": [
    "Write a short sentence below reporting the estimate and precision of the population mean. (See Notebook [3.6 - Reporting a population mean](../Self-study%20Notebooks/3.6%20-%20Reporting%20a%20population%20mean.ipynb#Reporting-the-estimate-of-the-population-mean-and-its-standard-error))"
   ]
  },
  {
   "cell_type": "markdown",
   "id": "200694ae",
   "metadata": {},
   "source": [
    "> Report your estimate and precision"
   ]
  },
  {
   "cell_type": "markdown",
   "id": "c74059f9",
   "metadata": {},
   "source": [
    "## Task 9: Discuss in your group what you think of your data\n"
   ]
  },
  {
   "cell_type": "markdown",
   "id": "259b256c",
   "metadata": {},
   "source": [
    "- How would you improve data collection in the cemetery? What would you do differently? How would you organise your group better?\n",
    "- What do you think of the quality of your data? Were there problems with measuring precisely and how could you improve that?\n",
    "- What do you think of the quantity of data? Could you have collected more ladybirds?\n",
    "\n",
    "<div class=\"alert alert-info\">\n",
    "\n",
    "These are the types of questions you will need to think and write about in your Group Report.\n",
    "    \n",
    "</div>"
   ]
  }
 ],
 "metadata": {
  "kernelspec": {
   "display_name": "Python 3 (ipykernel)",
   "language": "python",
   "name": "python3"
  },
  "language_info": {
   "codemirror_mode": {
    "name": "ipython",
    "version": 3
   },
   "file_extension": ".py",
   "mimetype": "text/x-python",
   "name": "python",
   "nbconvert_exporter": "python",
   "pygments_lexer": "ipython3",
   "version": "3.11.5"
  },
  "varInspector": {
   "cols": {
    "lenName": 16,
    "lenType": 16,
    "lenVar": 40
   },
   "kernels_config": {
    "python": {
     "delete_cmd_postfix": "",
     "delete_cmd_prefix": "del ",
     "library": "var_list.py",
     "varRefreshCmd": "print(var_dic_list())"
    },
    "r": {
     "delete_cmd_postfix": ") ",
     "delete_cmd_prefix": "rm(",
     "library": "var_list.r",
     "varRefreshCmd": "cat(var_dic_list()) "
    }
   },
   "types_to_exclude": [
    "module",
    "function",
    "builtin_function_or_method",
    "instance",
    "_Feature"
   ],
   "window_display": false
  }
 },
 "nbformat": 4,
 "nbformat_minor": 5
}
