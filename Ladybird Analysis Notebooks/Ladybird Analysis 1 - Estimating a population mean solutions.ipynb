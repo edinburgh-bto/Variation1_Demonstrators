{
 "cells": [
  {
   "cell_type": "markdown",
   "id": "3b9048ae",
   "metadata": {},
   "source": [
    "# Ladybird Analysis: Estimating the population mean size of your two-spot ladybirds"
   ]
  },
  {
   "cell_type": "markdown",
   "id": "e669eb02",
   "metadata": {},
   "source": [
    "<div class=\"alert alert-success\">\n",
    "\n",
    "For this solution I am using ladybird data collected from one of last year's groups. So the output will differ from yours.\n",
    "    \n",
    "</div>"
   ]
  },
  {
   "cell_type": "markdown",
   "id": "501f97f8",
   "metadata": {},
   "source": [
    "## Task 1: Read in and print your groups's data"
   ]
  },
  {
   "cell_type": "markdown",
   "id": "51862156",
   "metadata": {},
   "source": [
    "Using pandas, you are now going to read in the excel spreadsheet and call it something sensible.\n",
    "\n",
    "1. In the Self-study notebooks we read in csv data files with the pandas command `pd.read_csv(filename)`. To read in excel spreadsheets we use the command `pd.read_excel(filename)`. Do this now, calling the DataFrame something sensible, such as `ladybirds`.\n",
    "\n",
    "2. Print the data to make sure it is okay."
   ]
  },
  {
   "cell_type": "code",
   "execution_count": 4,
   "id": "d30db849",
   "metadata": {},
   "outputs": [
    {
     "data": {
      "text/html": [
       "<div>\n",
       "<style scoped>\n",
       "    .dataframe tbody tr th:only-of-type {\n",
       "        vertical-align: middle;\n",
       "    }\n",
       "\n",
       "    .dataframe tbody tr th {\n",
       "        vertical-align: top;\n",
       "    }\n",
       "\n",
       "    .dataframe thead th {\n",
       "        text-align: right;\n",
       "    }\n",
       "</style>\n",
       "<table border=\"1\" class=\"dataframe\">\n",
       "  <thead>\n",
       "    <tr style=\"text-align: right;\">\n",
       "      <th></th>\n",
       "      <th>low</th>\n",
       "      <th>high</th>\n",
       "    </tr>\n",
       "  </thead>\n",
       "  <tbody>\n",
       "    <tr>\n",
       "      <th>0</th>\n",
       "      <td>3.5</td>\n",
       "      <td>4.5</td>\n",
       "    </tr>\n",
       "    <tr>\n",
       "      <th>1</th>\n",
       "      <td>4.0</td>\n",
       "      <td>6.0</td>\n",
       "    </tr>\n",
       "    <tr>\n",
       "      <th>2</th>\n",
       "      <td>4.0</td>\n",
       "      <td>6.0</td>\n",
       "    </tr>\n",
       "    <tr>\n",
       "      <th>3</th>\n",
       "      <td>5.0</td>\n",
       "      <td>6.5</td>\n",
       "    </tr>\n",
       "    <tr>\n",
       "      <th>4</th>\n",
       "      <td>4.0</td>\n",
       "      <td>6.0</td>\n",
       "    </tr>\n",
       "    <tr>\n",
       "      <th>...</th>\n",
       "      <td>...</td>\n",
       "      <td>...</td>\n",
       "    </tr>\n",
       "    <tr>\n",
       "      <th>60</th>\n",
       "      <td>4.8</td>\n",
       "      <td>NaN</td>\n",
       "    </tr>\n",
       "    <tr>\n",
       "      <th>61</th>\n",
       "      <td>5.3</td>\n",
       "      <td>NaN</td>\n",
       "    </tr>\n",
       "    <tr>\n",
       "      <th>62</th>\n",
       "      <td>5.0</td>\n",
       "      <td>NaN</td>\n",
       "    </tr>\n",
       "    <tr>\n",
       "      <th>63</th>\n",
       "      <td>4.5</td>\n",
       "      <td>NaN</td>\n",
       "    </tr>\n",
       "    <tr>\n",
       "      <th>64</th>\n",
       "      <td>5.0</td>\n",
       "      <td>NaN</td>\n",
       "    </tr>\n",
       "  </tbody>\n",
       "</table>\n",
       "<p>65 rows × 2 columns</p>\n",
       "</div>"
      ],
      "text/plain": [
       "    low  high\n",
       "0   3.5   4.5\n",
       "1   4.0   6.0\n",
       "2   4.0   6.0\n",
       "3   5.0   6.5\n",
       "4   4.0   6.0\n",
       "..  ...   ...\n",
       "60  4.8   NaN\n",
       "61  5.3   NaN\n",
       "62  5.0   NaN\n",
       "63  4.5   NaN\n",
       "64  5.0   NaN\n",
       "\n",
       "[65 rows x 2 columns]"
      ]
     },
     "execution_count": 4,
     "metadata": {},
     "output_type": "execute_result"
    }
   ],
   "source": [
    "# read and print your ladybird size dataset\n",
    "\n",
    "import pandas as pd\n",
    "\n",
    "ladybirds = pd.read_excel('ladybird_sizes_demo.xlsx')\n",
    "\n",
    "ladybirds"
   ]
  },
  {
   "cell_type": "markdown",
   "id": "477f4bc2",
   "metadata": {},
   "source": [
    "## Task 2: Plot your group's data"
   ]
  },
  {
   "cell_type": "markdown",
   "id": "571831b6",
   "metadata": {},
   "source": [
    "Plot your two-spot ladybird sizes in an annotated histogram in the following code cell."
   ]
  },
  {
   "cell_type": "code",
   "execution_count": 5,
   "id": "3f010acd",
   "metadata": {},
   "outputs": [
    {
     "data": {
      "image/png": "[encoded data removed]",
      "text/plain": [
       "<Figure size 500x500 with 1 Axes>"
      ]
     },
     "metadata": {},
     "output_type": "display_data"
    }
   ],
   "source": [
    "# Annotated histogram of two-spot ladybird sizes.\n",
    "\n",
    "import seaborn as sns\n",
    "\n",
    "g = sns.displot(ladybirds['low'])\n",
    "\n",
    "# Add some useful annotation to help others understand what the graph contains\n",
    "g.ax.set_xlabel('Size (mm)')\n",
    "g.ax.set_ylabel('Number of ladybirds')\n",
    "g.ax.set_title('Sizes of two-spot ladybirds collected from a cemetery');\n"
   ]
  },
  {
   "cell_type": "markdown",
   "id": "687c7b29",
   "metadata": {},
   "source": [
    "## Task 3: Check for outliers"
   ]
  },
  {
   "cell_type": "markdown",
   "id": "c920a1ec",
   "metadata": {},
   "source": [
    "No outliers in this data"
   ]
  },
  {
   "cell_type": "markdown",
   "id": "8a1719d6",
   "metadata": {},
   "source": [
    "## Task 4: Eye-ball estimates of the mean and standard deviation"
   ]
  },
  {
   "cell_type": "markdown",
   "id": "1fa3ca70",
   "metadata": {},
   "source": [
    "Using your histogram, estimate the mean and standard deviation of ladybird sizes. Remember that a rough estimate of the standard deviation is given by this formula\n",
    "\n",
    "$$s \\approx \\frac{\\mathrm{max\\ value} - \\mathrm{min\\ value}}{4}$$\n"
   ]
  },
  {
   "cell_type": "markdown",
   "id": "29162428",
   "metadata": {},
   "source": [
    "mean is about 4.0 mm\n",
    "s is about (6-3)/4 = 0.75 mm"
   ]
  },
  {
   "cell_type": "markdown",
   "id": "60b148f0",
   "metadata": {},
   "source": [
    "## Task 5: Calculate the sample size, mean and standard deviation"
   ]
  },
  {
   "cell_type": "markdown",
   "id": "5b798c8e",
   "metadata": {},
   "source": [
    "Now, using Python code, calculate the sample size, mean and standard deviation of your data in the following code cell to the appropriate number of decimal places.\n",
    "\n",
    "How do they compare to your eye-ball estimates?"
   ]
  },
  {
   "cell_type": "code",
   "execution_count": 6,
   "id": "712f4d74",
   "metadata": {},
   "outputs": [
    {
     "name": "stdout",
     "output_type": "stream",
     "text": [
      "sample size = 65 ladybirds\n",
      "mean = 4.62 mm\n",
      "st. dev. = 0.74 mm\n"
     ]
    }
   ],
   "source": [
    "# sample size, sample mean and sample standard deviation\n",
    "\n",
    "n = ladybirds['low'].count()   # sample size\n",
    "xbar = ladybirds['low'].mean() # sample mean\n",
    "s = ladybirds['low'].std()     # sample standard deviation\n",
    "\n",
    "print(f'sample size = {n} ladybirds')\n",
    "print(f'mean = {xbar:.2f} mm')\n",
    "print(f'st. dev. = {s:.2f} mm')"
   ]
  },
  {
   "cell_type": "markdown",
   "id": "1d7c92ac",
   "metadata": {},
   "source": [
    "## Task 6: Check if your data obey the 68-95-99.7% rule"
   ]
  },
  {
   "cell_type": "markdown",
   "id": "3c06a21d",
   "metadata": {},
   "source": [
    "Now you should check to see if your data are roughly normally distributed.\n",
    "\n",
    "1. Check if 68% of your data lie within one standard deviation of the mean using Python code.\n",
    "    - Unless you have measured over a hundred ladybirds, you won't be able to check the 95% and 99.7% parts of the rule.\n",
    "2. Do you think your data are normally distributed?"
   ]
  },
  {
   "cell_type": "code",
   "execution_count": 7,
   "id": "8eee5013",
   "metadata": {},
   "outputs": [
    {
     "name": "stdout",
     "output_type": "stream",
     "text": [
      "expected number of ladybirds within 1 st. dev. of the mean = 44.2\n",
      "within 1 st. dev. of the mean is between 3.87 mm and 5.36 mm\n",
      "51 ladybirds are within 1 st. dev. of the mean\n",
      "perhaps not quite normally distributed\n"
     ]
    }
   ],
   "source": [
    "# check if 68% of your data are within one standard deviation of the mean\n",
    "\n",
    "print(f'expected number of ladybirds within 1 st. dev. of the mean = {0.68*n:.1f}')\n",
    "\n",
    "# Set tally of ladybird sizes within one standard deviation of the mean to zero.\n",
    "count = 0\n",
    "\n",
    "# Loop through ladybird sizes one at a time.\n",
    "for size in ladybirds['low']:\n",
    "    \n",
    "    # If this ladybird's size is within one standard deviation of the mean increment tally by 1. \n",
    "    if xbar - s < size < xbar + s:\n",
    "        count += 1\n",
    "\n",
    "print( f'within 1 st. dev. of the mean is between {xbar - s:.2f} mm and {xbar + s:.2f} mm' )\n",
    "print( f'{count} ladybirds are within 1 st. dev. of the mean' )\n",
    "print('perhaps not quite normally distributed')"
   ]
  },
  {
   "cell_type": "markdown",
   "id": "65500f21",
   "metadata": {},
   "source": [
    "## Task 7: Calculate the precision of your estimate of the population mean"
   ]
  },
  {
   "cell_type": "markdown",
   "id": "4be013d9",
   "metadata": {},
   "source": [
    "Calculate the standard error of the mean and the 95% confidence interval of the mean."
   ]
  },
  {
   "cell_type": "code",
   "execution_count": 8,
   "id": "2522bf0d",
   "metadata": {},
   "outputs": [
    {
     "name": "stdout",
     "output_type": "stream",
     "text": [
      "SEM = 0.09 mm\n",
      "lower limit = 4.43 mm\n",
      "upper limit = 4.80 mm\n"
     ]
    }
   ],
   "source": [
    "import math\n",
    "\n",
    "SEM = s / math.sqrt(n)   # the standard error of the mean for the 1976 finches\n",
    "\n",
    "print(f'SEM = {SEM:.2f} mm')\n",
    "\n",
    "lower_limit = xbar - 2 * SEM   # Lower limit of 95% CI\n",
    "upper_limit = xbar + 2 * SEM   # Upper limit of 95% CI\n",
    "\n",
    "print(f'lower limit = {lower_limit:.2f} mm')\n",
    "print(f'upper limit = {upper_limit:.2f} mm')\n"
   ]
  },
  {
   "cell_type": "markdown",
   "id": "bb0ddd94",
   "metadata": {},
   "source": [
    "## Task 8: Report your 95% confidence interval"
   ]
  },
  {
   "cell_type": "markdown",
   "id": "98126d76",
   "metadata": {},
   "source": [
    "Write a short sentence below reporting your confidence interval."
   ]
  },
  {
   "cell_type": "markdown",
   "id": "fb9e26e1",
   "metadata": {},
   "source": [
    "Mean ladybird size is 4.62 mm (95% CI: 4.43 - 4.80 mm)\n",
    "\n",
    "Mean ladybird size is 4.62 mm (SEM: 0.09 mm)"
   ]
  }
 ],
 "metadata": {
  "kernelspec": {
   "display_name": "Python 3 (ipykernel)",
   "language": "python",
   "name": "python3"
  },
  "language_info": {
   "codemirror_mode": {
    "name": "ipython",
    "version": 3
   },
   "file_extension": ".py",
   "mimetype": "text/x-python",
   "name": "python",
   "nbconvert_exporter": "python",
   "pygments_lexer": "ipython3",
   "version": "3.11.5"
  },
  "varInspector": {
   "cols": {
    "lenName": 16,
    "lenType": 16,
    "lenVar": 40
   },
   "kernels_config": {
    "python": {
     "delete_cmd_postfix": "",
     "delete_cmd_prefix": "del ",
     "library": "var_list.py",
     "varRefreshCmd": "print(var_dic_list())"
    },
    "r": {
     "delete_cmd_postfix": ") ",
     "delete_cmd_prefix": "rm(",
     "library": "var_list.r",
     "varRefreshCmd": "cat(var_dic_list()) "
    }
   },
   "types_to_exclude": [
    "module",
    "function",
    "builtin_function_or_method",
    "instance",
    "_Feature"
   ],
   "window_display": false
  }
 },
 "nbformat": 4,
 "nbformat_minor": 5
}
